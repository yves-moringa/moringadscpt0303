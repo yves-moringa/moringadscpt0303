{
 "cells": [
  {
   "cell_type": "markdown",
   "id": "da5aabdd-e5aa-4219-9874-632f6d226913",
   "metadata": {
    "tags": []
   },
   "source": [
    "# 1. Business Understanding\n",
    "\n",
    "Safaricom is a telecommunication company based in Kenya.\n",
    "\n",
    "Safaricom was formed in 1997 as a subsidiary of Telkom kenya and ,currently, mainly owned by the Government of kenya (35%) and Vodacom (35%).\n",
    "\n",
    "Among its products, it offers financial services under the name MPESA.\n",
    "\n",
    "MPESA can be used as an electronic wallet and can easily transfer money from one individual to another.\n",
    "\n",
    "In 2013, MPESA ,in collaboration with CBA, introduced MSHWARI to MPESA users, which allowed you to save and borrow money.\n",
    "\n",
    "A loan taken using MSHWARI is repayable within 30 days. If the loan is not paid, the loan repayment period is extended for an additional 30 days and will be charged an additional 7.5% facilitation fee on the outstanding loan balance.\n",
    "\n",
    "Another service offered to Safaricom users is Okoa Jahazi.\n",
    "\n",
    "Okoa Jahazi provides a credit loan to prepaid subscribers with an advance fee of 10% on the loan amount.\n",
    "\n",
    "The debt is repaid by automatically deducting the outstanding balance when the user tops up.\n",
    "\n",
    "The Okoa Jahazi debt must be fully repaid within five days; failing to do so gives Safaricom legal means to blacklist the user.\n",
    "\n",
    "sources:   \n",
    "safaricom wikipedia: https://en.wikipedia.org/wiki/Safaricom,  \n",
    "ncba mshwari: https://ke.ncbagroup.com/m-shwari/,  \n",
    "safaricom mshwari: https://www.safaricom.co.ke/media-center-landing/frequently-asked-questions/m-shwari-faqs-safaricom#:~:text=If%20you%20have%20not%20paid,on%20your%20outstanding%20loan%20balance.   \n",
    "safaricom okoajahazi: https://www.safaricom.co.ke/media-center-landing/terms-and-conditions/safaricom-auto-okoa-services  "
   ]
  },
  {
   "cell_type": "markdown",
   "id": "1f77cf41-4b97-4e2c-903e-a98736fb3ad3",
   "metadata": {
    "jp-MarkdownHeadingCollapsed": true,
    "tags": []
   },
   "source": [
    "## 1.1. Business Objectives\n",
    "\n",
    "The project aims at predicting when a person is defaulting on their loan.\n",
    "\n",
    "Using the data collected, we build a model that incorporates all the relevant data in order to accurately predict the outcome.\n",
    "\n",
    "Loan defaulting occurs when a person fails to repay a debt in the agreed period."
   ]
  },
  {
   "cell_type": "markdown",
   "id": "649920eb-fa70-475a-84c2-8e591b11649a",
   "metadata": {
    "jp-MarkdownHeadingCollapsed": true,
    "tags": []
   },
   "source": [
    "## 1.2. Situation Assessment\n",
    "\n",
    "The team is made of 3 aspiring data scientists, Felista Mweni, Samwel Omondi and Yves HAvugimana;\n",
    "who will work on building the required model using google collab and github.\n",
    "\n",
    "The required tools are freely accessible (collab, jupyter and python packages). \n",
    "\n",
    "The project shall be completed within a week, by November 23rd, 2022.\n",
    "\n",
    "The dataset being used contains 9 features and 10329 records.\n",
    "\n",
    "The variables are as follows: \n",
    "\n",
    "- CUST_TXN_DATE:                 Customer Transaction Date\n",
    "- CUST_ID_ACCT1:                 Account Identifier\n",
    "- DEPOSIT_AMNT_MPSA:             Amount deposited on Mpesa\n",
    "- RCVD_AMNT_MPSA:                Amount received on Mpesa\n",
    "- TRSF_FROM_BANK_TO_MPESA_AMNT:  Amount on transfers from Bank on Mpesa\n",
    "- MPSA_CREDITS:                  Mpesa credits\n",
    "- DAYS_ARTM_LESS_2:              Number of days airtime is less than 2\n",
    "- X_NR_TOT_LOAN_AMNT_OKOA_JAZI:  Total loan amount on okoa jahazi\n",
    "- LOAN_AGE_DAYSL:                Loan age in days\n"
   ]
  },
  {
   "cell_type": "markdown",
   "id": "57a14801-135a-48b7-8cae-497de7e87d09",
   "metadata": {
    "jp-MarkdownHeadingCollapsed": true,
    "tags": []
   },
   "source": [
    "## 1.3. Data Mining Goals\n",
    "\n",
    "The goal of this project is to accurately predict that a subscriber is defaulting on a loan or not.\n",
    "\n",
    "The criteria used for assessing is whether a subscriber defaulted is the inability to repay a loan past 90 days.\n",
    "\n"
   ]
  },
  {
   "cell_type": "markdown",
   "id": "fe18de69-c810-4f37-adab-1e14a2ac2d7a",
   "metadata": {
    "jp-MarkdownHeadingCollapsed": true,
    "tags": []
   },
   "source": [
    "## 1.4. Project Plan\n",
    "\n",
    "The project is divided in 4 sections:\n",
    "- Business understanding: objectives, assessment and planning\n",
    "- Data understanding: data collection, description, exploration and verification\n",
    "- Data preparation: feature selection, data cleaning, feature engineering and data integration\n",
    "- Modeling: model selection, training and evaluation"
   ]
  },
  {
   "cell_type": "markdown",
   "id": "067ab703-142e-498c-99f8-fd6a49bb91c1",
   "metadata": {
    "tags": []
   },
   "source": [
    "# 2. Data Understanding\n",
    "\n",
    "In order to understand our data, we will have a look at the different aspects of the dataset:\n",
    "- the size of the dataset,\n",
    "- the types of variables in the dataset,\n",
    "- descriptive statistics of the variables and\n",
    "- Detecting errors, outliers and missing values"
   ]
  },
  {
   "cell_type": "markdown",
   "id": "c222c2b8-d20f-4870-b88b-eacd595f96c6",
   "metadata": {
    "tags": []
   },
   "source": [
    "## 2.1. Data Collection\n",
    "\n",
    "The data is obtained directly from NCBA bank database.\n",
    "\n",
    "The following are the libraries that were used to load and pre-process the data for modeling:\n",
    "- pandas,\n",
    "- numpy,\n",
    "- matplotlib and\n",
    "- seaborn"
   ]
  },
  {
   "cell_type": "code",
   "execution_count": 1,
   "id": "cf343731-f55d-4f11-85df-d905b87ac3d4",
   "metadata": {},
   "outputs": [],
   "source": [
    "# importing libraries\n",
    "\n",
    "import pandas as pd\n",
    "import numpy as np\n",
    "import matplotlib.pyplot as plt\n",
    "import seaborn as sns"
   ]
  },
  {
   "cell_type": "code",
   "execution_count": 2,
   "id": "1d6fa291-df44-4090-8736-b0901b5ec187",
   "metadata": {
    "tags": []
   },
   "outputs": [
    {
     "name": "stdout",
     "output_type": "stream",
     "text": [
      "Data first rows\n"
     ]
    },
    {
     "data": {
      "text/html": [
       "<div><div id=dc836bc7-5c20-436f-a915-fa853cf2e87d style=\"display:none; background-color:#9D6CFF; color:white; width:200px; height:30px; padding-left:5px; border-radius:4px; flex-direction:row; justify-content:space-around; align-items:center;\" onmouseover=\"this.style.backgroundColor='#BA9BF8'\" onmouseout=\"this.style.backgroundColor='#9D6CFF'\" onclick=\"window.commands?.execute('create-mitosheet-from-dataframe-output');\">See Full Dataframe in Mito</div> <script> if (window.commands?.hasCommand('create-mitosheet-from-dataframe-output')) document.getElementById('dc836bc7-5c20-436f-a915-fa853cf2e87d').style.display = 'flex' </script> <table border=\"1\" class=\"dataframe\">\n",
       "  <thead>\n",
       "    <tr style=\"text-align: right;\">\n",
       "      <th></th>\n",
       "      <th>CUST_TXN_DATE</th>\n",
       "      <th>CUST_ID_ACCT1</th>\n",
       "      <th>DEPOSIT_AMNT_MPSA</th>\n",
       "      <th>RCVD_AMNT_MPSA</th>\n",
       "      <th>TRSF_FROM_BANK_TO_MPESA_AMNT</th>\n",
       "      <th>MPSA_CREDITS</th>\n",
       "      <th>DAYS_ARTM_LESS_2</th>\n",
       "      <th>X_NR_TOT_LOAN_AMNT_OKOA_JAZI</th>\n",
       "      <th>LOAN_AGE_DAYS</th>\n",
       "    </tr>\n",
       "  </thead>\n",
       "  <tbody>\n",
       "    <tr>\n",
       "      <th>0</th>\n",
       "      <td>20160201</td>\n",
       "      <td>3008009</td>\n",
       "      <td>27590</td>\n",
       "      <td>53226.0</td>\n",
       "      <td>0.0</td>\n",
       "      <td>80816.0</td>\n",
       "      <td>139</td>\n",
       "      <td>800.0</td>\n",
       "      <td>5</td>\n",
       "    </tr>\n",
       "    <tr>\n",
       "      <th>1</th>\n",
       "      <td>20160201</td>\n",
       "      <td>12083048</td>\n",
       "      <td>2140</td>\n",
       "      <td>0.0</td>\n",
       "      <td>2170.0</td>\n",
       "      <td>4310.0</td>\n",
       "      <td>154</td>\n",
       "      <td>0.0</td>\n",
       "      <td>8</td>\n",
       "    </tr>\n",
       "    <tr>\n",
       "      <th>2</th>\n",
       "      <td>20160201</td>\n",
       "      <td>12930260</td>\n",
       "      <td>25700</td>\n",
       "      <td>37974.0</td>\n",
       "      <td>38972.0</td>\n",
       "      <td>102646.0</td>\n",
       "      <td>1</td>\n",
       "      <td>0.0</td>\n",
       "      <td>27</td>\n",
       "    </tr>\n",
       "    <tr>\n",
       "      <th>3</th>\n",
       "      <td>20160201</td>\n",
       "      <td>6422098</td>\n",
       "      <td>9250</td>\n",
       "      <td>2180.0</td>\n",
       "      <td>0.0</td>\n",
       "      <td>11430.0</td>\n",
       "      <td>64</td>\n",
       "      <td>0.0</td>\n",
       "      <td>5</td>\n",
       "    </tr>\n",
       "    <tr>\n",
       "      <th>4</th>\n",
       "      <td>20160201</td>\n",
       "      <td>5395787</td>\n",
       "      <td>102401</td>\n",
       "      <td>7169.0</td>\n",
       "      <td>0.0</td>\n",
       "      <td>109570.0</td>\n",
       "      <td>53</td>\n",
       "      <td>450.0</td>\n",
       "      <td>31</td>\n",
       "    </tr>\n",
       "  </tbody>\n",
       "</table></div>"
      ],
      "text/plain": [
       "   CUST_TXN_DATE  CUST_ID_ACCT1  DEPOSIT_AMNT_MPSA  RCVD_AMNT_MPSA  \\\n",
       "0       20160201        3008009              27590         53226.0   \n",
       "1       20160201       12083048               2140             0.0   \n",
       "2       20160201       12930260              25700         37974.0   \n",
       "3       20160201        6422098               9250          2180.0   \n",
       "4       20160201        5395787             102401          7169.0   \n",
       "\n",
       "   TRSF_FROM_BANK_TO_MPESA_AMNT  MPSA_CREDITS  DAYS_ARTM_LESS_2  \\\n",
       "0                           0.0       80816.0               139   \n",
       "1                        2170.0        4310.0               154   \n",
       "2                       38972.0      102646.0                 1   \n",
       "3                           0.0       11430.0                64   \n",
       "4                           0.0      109570.0                53   \n",
       "\n",
       "   X_NR_TOT_LOAN_AMNT_OKOA_JAZI  LOAN_AGE_DAYS  \n",
       "0                         800.0              5  \n",
       "1                           0.0              8  \n",
       "2                           0.0             27  \n",
       "3                           0.0              5  \n",
       "4                         450.0             31  "
      ]
     },
     "metadata": {},
     "output_type": "display_data"
    },
    {
     "name": "stdout",
     "output_type": "stream",
     "text": [
      "\n",
      " ---- \n",
      "\n",
      " ---- \n",
      "\n",
      " ---- \n",
      "\n",
      "Data last rows\n"
     ]
    },
    {
     "data": {
      "text/html": [
       "<div><div id=0d24ccc5-57bb-4a14-ac40-933e6de823b6 style=\"display:none; background-color:#9D6CFF; color:white; width:200px; height:30px; padding-left:5px; border-radius:4px; flex-direction:row; justify-content:space-around; align-items:center;\" onmouseover=\"this.style.backgroundColor='#BA9BF8'\" onmouseout=\"this.style.backgroundColor='#9D6CFF'\" onclick=\"window.commands?.execute('create-mitosheet-from-dataframe-output');\">See Full Dataframe in Mito</div> <script> if (window.commands?.hasCommand('create-mitosheet-from-dataframe-output')) document.getElementById('0d24ccc5-57bb-4a14-ac40-933e6de823b6').style.display = 'flex' </script> <table border=\"1\" class=\"dataframe\">\n",
       "  <thead>\n",
       "    <tr style=\"text-align: right;\">\n",
       "      <th></th>\n",
       "      <th>CUST_TXN_DATE</th>\n",
       "      <th>CUST_ID_ACCT1</th>\n",
       "      <th>DEPOSIT_AMNT_MPSA</th>\n",
       "      <th>RCVD_AMNT_MPSA</th>\n",
       "      <th>TRSF_FROM_BANK_TO_MPESA_AMNT</th>\n",
       "      <th>MPSA_CREDITS</th>\n",
       "      <th>DAYS_ARTM_LESS_2</th>\n",
       "      <th>X_NR_TOT_LOAN_AMNT_OKOA_JAZI</th>\n",
       "      <th>LOAN_AGE_DAYS</th>\n",
       "    </tr>\n",
       "  </thead>\n",
       "  <tbody>\n",
       "    <tr>\n",
       "      <th>10324</th>\n",
       "      <td>20160229</td>\n",
       "      <td>7261105</td>\n",
       "      <td>13490</td>\n",
       "      <td>0.0</td>\n",
       "      <td>24000.0</td>\n",
       "      <td>37490.0</td>\n",
       "      <td>0</td>\n",
       "      <td>0.0</td>\n",
       "      <td>287</td>\n",
       "    </tr>\n",
       "    <tr>\n",
       "      <th>10325</th>\n",
       "      <td>20160229</td>\n",
       "      <td>101780</td>\n",
       "      <td>200</td>\n",
       "      <td>7274.0</td>\n",
       "      <td>0.0</td>\n",
       "      <td>7474.0</td>\n",
       "      <td>158</td>\n",
       "      <td>0.0</td>\n",
       "      <td>8</td>\n",
       "    </tr>\n",
       "    <tr>\n",
       "      <th>10326</th>\n",
       "      <td>20160229</td>\n",
       "      <td>101780</td>\n",
       "      <td>200</td>\n",
       "      <td>7274.0</td>\n",
       "      <td>0.0</td>\n",
       "      <td>7474.0</td>\n",
       "      <td>158</td>\n",
       "      <td>0.0</td>\n",
       "      <td>8</td>\n",
       "    </tr>\n",
       "    <tr>\n",
       "      <th>10327</th>\n",
       "      <td>20160229</td>\n",
       "      <td>11654130</td>\n",
       "      <td>31000</td>\n",
       "      <td>43544.0</td>\n",
       "      <td>0.0</td>\n",
       "      <td>74544.0</td>\n",
       "      <td>128</td>\n",
       "      <td>0.0</td>\n",
       "      <td>5</td>\n",
       "    </tr>\n",
       "    <tr>\n",
       "      <th>10328</th>\n",
       "      <td>20160229</td>\n",
       "      <td>9064758</td>\n",
       "      <td>48640</td>\n",
       "      <td>1897.0</td>\n",
       "      <td>0.0</td>\n",
       "      <td>50537.0</td>\n",
       "      <td>35</td>\n",
       "      <td>10.0</td>\n",
       "      <td>9</td>\n",
       "    </tr>\n",
       "  </tbody>\n",
       "</table></div>"
      ],
      "text/plain": [
       "       CUST_TXN_DATE  CUST_ID_ACCT1  DEPOSIT_AMNT_MPSA  RCVD_AMNT_MPSA  \\\n",
       "10324       20160229        7261105              13490             0.0   \n",
       "10325       20160229         101780                200          7274.0   \n",
       "10326       20160229         101780                200          7274.0   \n",
       "10327       20160229       11654130              31000         43544.0   \n",
       "10328       20160229        9064758              48640          1897.0   \n",
       "\n",
       "       TRSF_FROM_BANK_TO_MPESA_AMNT  MPSA_CREDITS  DAYS_ARTM_LESS_2  \\\n",
       "10324                       24000.0       37490.0                 0   \n",
       "10325                           0.0        7474.0               158   \n",
       "10326                           0.0        7474.0               158   \n",
       "10327                           0.0       74544.0               128   \n",
       "10328                           0.0       50537.0                35   \n",
       "\n",
       "       X_NR_TOT_LOAN_AMNT_OKOA_JAZI  LOAN_AGE_DAYS  \n",
       "10324                           0.0            287  \n",
       "10325                           0.0              8  \n",
       "10326                           0.0              8  \n",
       "10327                           0.0              5  \n",
       "10328                          10.0              9  "
      ]
     },
     "metadata": {},
     "output_type": "display_data"
    }
   ],
   "source": [
    "# loading and previewing data\n",
    "\n",
    "df_raw = pd.read_excel(\"interview_database_raw.xlsx\")\n",
    "\n",
    "print(\"Data first rows\")\n",
    "display(df_raw.head())\n",
    "print(\"\\n ---- \\n\"*3)\n",
    "print(\"Data last rows\")\n",
    "display(df_raw.tail())"
   ]
  },
  {
   "cell_type": "markdown",
   "id": "5547ddb4-0b40-4f57-9a0f-3b4cda3b64f2",
   "metadata": {},
   "source": [
    "All variables in our dataset appear to be numerical, both integers and float numbers can be seen."
   ]
  },
  {
   "cell_type": "markdown",
   "id": "7ae050d9-7d59-43d8-b783-4bc6bb9086cc",
   "metadata": {
    "tags": []
   },
   "source": [
    "## 2.2. Data Description\n",
    "\n",
    "We check the size of our dataset as well as the types of variables we have."
   ]
  },
  {
   "cell_type": "code",
   "execution_count": 3,
   "id": "65a4e51c-9083-42e9-bf40-acc3e09c17b5",
   "metadata": {},
   "outputs": [
    {
     "name": "stdout",
     "output_type": "stream",
     "text": [
      "Our dataset has 10329 rows and 9 columns\n"
     ]
    }
   ],
   "source": [
    "# Checking the size of the dataset\n",
    "\n",
    "(rows, cols) = df_raw.shape\n",
    "\n",
    "print(f\"Our dataset has {rows} rows and {cols} columns\")"
   ]
  },
  {
   "cell_type": "code",
   "execution_count": 4,
   "id": "625453c5-e785-42b8-9209-636f8b94b334",
   "metadata": {},
   "outputs": [
    {
     "name": "stdout",
     "output_type": "stream",
     "text": [
      "<class 'pandas.core.frame.DataFrame'>\n",
      "RangeIndex: 10329 entries, 0 to 10328\n",
      "Data columns (total 9 columns):\n",
      " #   Column                        Non-Null Count  Dtype  \n",
      "---  ------                        --------------  -----  \n",
      " 0   CUST_TXN_DATE                 10329 non-null  int64  \n",
      " 1   CUST_ID_ACCT1                 10329 non-null  int64  \n",
      " 2   DEPOSIT_AMNT_MPSA             10329 non-null  int64  \n",
      " 3   RCVD_AMNT_MPSA                10329 non-null  float64\n",
      " 4   TRSF_FROM_BANK_TO_MPESA_AMNT  10329 non-null  float64\n",
      " 5   MPSA_CREDITS                  10329 non-null  float64\n",
      " 6   DAYS_ARTM_LESS_2              10329 non-null  int64  \n",
      " 7   X_NR_TOT_LOAN_AMNT_OKOA_JAZI  10329 non-null  float64\n",
      " 8   LOAN_AGE_DAYS                 10329 non-null  int64  \n",
      "dtypes: float64(4), int64(5)\n",
      "memory usage: 726.4 KB\n"
     ]
    }
   ],
   "source": [
    "# Column names and their data types\n",
    "\n",
    "df_raw.info()"
   ]
  },
  {
   "cell_type": "markdown",
   "id": "99152b27-6755-4cd4-99e2-4dd8edb86d26",
   "metadata": {},
   "source": [
    "The dataset has 9 variables\n",
    "\n",
    "CUST_TXN_DATE:  Customer Transaction Date - dates from February 1st to February 29th, 2016  \n",
    "CUST_ID_ACCT1:  Account Identifier  \n",
    "DEPOSIT_AMNT_MPSA: Amount deposited on Mpesa  \n",
    "RCVD_AMNT_MPSA: Amount received on Mpesa  \n",
    "TRSF_FROM_BANK_TO_MPESA_AMNT: Amount on transfers from Bank on Mpesa  \n",
    "MPSA_CREDITS: Mpesa credits  \n",
    "DAYS_ARTM_LESS_2: Number of days airtime is less than 2  \n",
    "X_NR_TOT_LOAN_AMNT_OKOA_JAZI: Total loan amount on okoa jahazi  \n",
    "LOAN_AGE_DAYSL: Loan age in days  \n",
    "\n",
    "The dataset has 5 integer variables (int64) and 4 variables of float64 type.  \n",
    "\n",
    "All variable datatypes should be in interger form except the date that shall be in date format.  "
   ]
  },
  {
   "cell_type": "code",
   "execution_count": 5,
   "id": "0f721ef9-4b9c-4265-9f7b-e37b74a66bdf",
   "metadata": {},
   "outputs": [
    {
     "data": {
      "text/plain": [
       "Index(['customer_transaction_date', 'account_identifier', 'amount_deposited',\n",
       "       'amount_received', 'amount_transfers_from_bank', 'mpesa_credits',\n",
       "       'number_days_airtime<2', 'okoa_jahazi_loan_amount', 'Loan_age'],\n",
       "      dtype='object')"
      ]
     },
     "execution_count": 5,
     "metadata": {},
     "output_type": "execute_result"
    }
   ],
   "source": [
    "# creating dataset with correct names\n",
    "\n",
    "df = df_raw.copy()\n",
    "\n",
    "# Changing column names\n",
    "\n",
    "df.rename(columns = {'CUST_TXN_DATE':'customer_transaction_date',\n",
    "                     'CUST_ID_ACCT1':'account_identifier',\n",
    "                     'DEPOSIT_AMNT_MPSA': 'amount_deposited',\n",
    "                     'RCVD_AMNT_MPSA': 'amount_received',\n",
    "                     'TRSF_FROM_BANK_TO_MPESA_AMNT': 'amount_transfers_from_bank',\n",
    "                     'MPSA_CREDITS': 'mpesa_credits',\n",
    "                     'DAYS_ARTM_LESS_2': 'number_days_airtime<2',\n",
    "                     'X_NR_TOT_LOAN_AMNT_OKOA_JAZI': 'okoa_jahazi_loan_amount',\n",
    "                     'LOAN_AGE_DAYS': 'Loan_age'}, \n",
    "          inplace = True)\n",
    "\n",
    "df.columns"
   ]
  },
  {
   "cell_type": "markdown",
   "id": "c0fbcb8a-80f7-4e98-9bd7-018055d6df53",
   "metadata": {},
   "source": [
    "All columns are renamed properly."
   ]
  },
  {
   "cell_type": "markdown",
   "id": "1344b8c1-a5ea-4ee7-b59a-b35314687e23",
   "metadata": {
    "tags": []
   },
   "source": [
    "## 2.3. Data Quality Verification\n",
    "\n",
    "We check for quality of data by identfying\n",
    "- missing values\n",
    "- duplicates\n",
    "- outliers"
   ]
  },
  {
   "cell_type": "code",
   "execution_count": 6,
   "id": "204c1105-32e2-40ae-a93d-7a531e993297",
   "metadata": {},
   "outputs": [
    {
     "data": {
      "text/plain": [
       "customer_transaction_date     0\n",
       "account_identifier            0\n",
       "amount_deposited              0\n",
       "amount_received               0\n",
       "amount_transfers_from_bank    0\n",
       "mpesa_credits                 0\n",
       "number_days_airtime<2         0\n",
       "okoa_jahazi_loan_amount       0\n",
       "Loan_age                      0\n",
       "dtype: int64"
      ]
     },
     "execution_count": 6,
     "metadata": {},
     "output_type": "execute_result"
    }
   ],
   "source": [
    "# Checking for missing values\n",
    "\n",
    "df.isnull().sum()"
   ]
  },
  {
   "cell_type": "markdown",
   "id": "76d11269-5d27-4aa0-a6e4-1466f8a0ea9b",
   "metadata": {},
   "source": [
    "The dataset has no missing values"
   ]
  },
  {
   "cell_type": "code",
   "execution_count": 7,
   "id": "4d0df553-8609-48e6-94bd-0002ae830bca",
   "metadata": {},
   "outputs": [
    {
     "name": "stdout",
     "output_type": "stream",
     "text": [
      "The dataset has 1342 duplicate rows.\n"
     ]
    }
   ],
   "source": [
    "# Cheking for duplicates\n",
    "\n",
    "dups = df.duplicated().sum()\n",
    "\n",
    "print(f\"The dataset has {dups} duplicate rows.\")"
   ]
  },
  {
   "cell_type": "code",
   "execution_count": 8,
   "id": "765b5cae-395e-45d9-961a-797604372c36",
   "metadata": {},
   "outputs": [
    {
     "data": {
      "image/png": "[encoded data removed]",
      "text/plain": [
       "<Figure size 1440x432 with 9 Axes>"
      ]
     },
     "metadata": {
      "needs_background": "light"
     },
     "output_type": "display_data"
    }
   ],
   "source": [
    "# Checking for outliers\n",
    "\n",
    "cols_du = list(df.columns)\n",
    "\n",
    "# initialize figure with 4 subplots in a row \n",
    "\n",
    "fig, ax = plt .subplots( 1, 9, figsize= (20, 6))\n",
    "\n",
    "# add padding between the subplots \n",
    "\n",
    "plt.subplots_adjust(wspace=0.5)\n",
    "\n",
    "# drawing boxplot for each variable\n",
    "\n",
    "i = 0\n",
    "\n",
    "for col in cols_du:\n",
    "    sns.boxplot (data=df[col], ax=ax[i])\n",
    "    ax[i].set_xlabel (col)\n",
    "    i+= 1"
   ]
  },
  {
   "cell_type": "markdown",
   "id": "4b6f0719-e0c2-415c-8864-7f931c34c618",
   "metadata": {},
   "source": [
    "We have 6 variables with outliers and 3 without outliers.  \n",
    "\n",
    "The variables with outliers are:\n",
    "- amount_deposited\n",
    "- amount_received\n",
    "- amount_transfers_from_bank\n",
    "- mpesa_credits\n",
    "- okoa_jahazi_loan_amount\n",
    "- Loan_age"
   ]
  },
  {
   "cell_type": "markdown",
   "id": "570467b6-a195-4405-b2df-06b170ca48a5",
   "metadata": {},
   "source": [
    "## 2.4. Data Exploration"
   ]
  },
  {
   "cell_type": "code",
   "execution_count": 9,
   "id": "9c09e310-e630-4246-8354-574654041b9d",
   "metadata": {},
   "outputs": [
    {
     "name": "stdout",
     "output_type": "stream",
     "text": [
      "The variable customer_transaction_date has a minimum of 20160201.0, a maximum of 20160229.0, a mean of 20160214.702875398 and a median of 20160216.0\n",
      "The variable account_identifier has a minimum of 515.0, a maximum of 13669753.0, a mean of 8416439.791073676 and a median of 9519227.0\n",
      "The variable amount_deposited has a minimum of 0.0, a maximum of 7858300.0, a mean of 18602.614386678284 and a median of 2790.0\n",
      "The variable amount_received has a minimum of 0.0, a maximum of 12605460.0, a mean of 30606.070653499854 and a median of 3854.0\n",
      "The variable amount_transfers_from_bank has a minimum of 0.0, a maximum of 1720000.0, a mean of 5412.641001064963 and a median of 0.0\n",
      "The variable mpesa_credits has a minimum of 0.0, a maximum of 12647660.0, a mean of 54621.32604124311 and a median of 12774.0\n",
      "The variable number_days_airtime<2 has a minimum of 0.0, a maximum of 182.0, a mean of 84.17997870074548 and a median of 95.0\n",
      "The variable okoa_jahazi_loan_amount has a minimum of 0.0, a maximum of 32100.0, a mean of 309.79782176396554 and a median of 0.0\n",
      "The variable Loan_age has a minimum of 1.0, a maximum of 315.0, a mean of 45.80530545067286 and a median of 20.0\n"
     ]
    }
   ],
   "source": [
    "# Data Description\n",
    "\n",
    "descrip = pd.DataFrame(df.describe()).transpose()\n",
    "\n",
    "for ind in list(descrip.index.values):\n",
    "    print(f\"The variable {ind} has a minimum of {descrip['min'].loc[ind]}, a maximum of {descrip['max'].loc[ind]}, a mean of {descrip['mean'].loc[ind]} and a median of {descrip['50%'].loc[ind]}\")\n",
    "\n",
    "# and a median of {descrip[\"50%\"].loc[ind]}\")"
   ]
  },
  {
   "cell_type": "markdown",
   "id": "02728bd7-1af9-44c6-b30d-6c404c3cd7b9",
   "metadata": {
    "tags": []
   },
   "source": [
    "# 3. Data Preparation"
   ]
  },
  {
   "cell_type": "markdown",
   "id": "61423de4-ab1c-478e-92f6-cca66b05aeef",
   "metadata": {
    "tags": []
   },
   "source": [
    "## 3.1. Feature Selection\n",
    "\n",
    "Remove the columns that are not needed for our modeling;\n",
    "- customer_transaction_date and\n",
    "- account_identifier "
   ]
  },
  {
   "cell_type": "code",
   "execution_count": 10,
   "id": "46a947ed-1b29-417a-afaf-dc302b506707",
   "metadata": {},
   "outputs": [],
   "source": [
    "df_prep = df.copy()\n",
    "\n",
    "df_prep.drop(['customer_transaction_date', 'account_identifier'], axis = 1, inplace = True)"
   ]
  },
  {
   "cell_type": "markdown",
   "id": "fcae876f-36bc-4be8-a68f-9f652aae0568",
   "metadata": {
    "tags": []
   },
   "source": [
    "## 3.2. Data Cleaning\n",
    "\n",
    "Cleaning the dataset involves removing outliers and duplicate values.\n",
    "Also the data cleaning process involves involves removing/replacing erronous data.\n",
    "\n",
    "we identified:\n",
    "- no missing values\n",
    "- 1342 duplicate rows\n",
    "- outliers in several columns: **identify the columns"
   ]
  },
  {
   "cell_type": "code",
   "execution_count": 11,
   "id": "51ff61a7-a078-4fbd-91b7-4b4e05534e4e",
   "metadata": {},
   "outputs": [
    {
     "name": "stdout",
     "output_type": "stream",
     "text": [
      "The resulting dataset has 8981 records and 7 features.\n"
     ]
    }
   ],
   "source": [
    "# Removing Duplicate records\n",
    "\n",
    "df_prep.drop_duplicates(inplace = True)\n",
    "\n",
    "(rows_nodups, cols_nodups) = df_prep.shape\n",
    "\n",
    "print(f\"The resulting dataset has {rows_nodups} records and {cols_nodups} features.\")"
   ]
  },
  {
   "cell_type": "code",
   "execution_count": 12,
   "id": "1dcc95bd-091f-4d35-ad11-407c6ccabe1b",
   "metadata": {},
   "outputs": [
    {
     "name": "stdout",
     "output_type": "stream",
     "text": [
      "The dataset with no outliers has 3775 records and 7 columns\n"
     ]
    }
   ],
   "source": [
    "# Removing outliers\n",
    "\n",
    "# The columns you want to search for outliers\n",
    "\n",
    "cols_dp = list(df_prep.columns)\n",
    "\n",
    "# Calculate quantiles and IQR\n",
    "Q1 = df_prep[cols_dp].quantile(0.25) # Same as np.percentile but maps (0,1) and not (0,100)\n",
    "Q3 = df_prep[cols_dp].quantile(0.75)\n",
    "IQR = Q3 - Q1\n",
    "\n",
    "# Return a boolean array of the rows with (any) non-outlier column values\n",
    "condition = ~((df_prep[cols_dp] < (Q1 - 1.5 * IQR)) | (df_prep[cols_dp] > (Q3 + 1.5 * IQR))).any(axis=1)\n",
    "\n",
    "# Filter our dataframe based on condition\n",
    "\n",
    "df_no_out = df_prep[condition]\n",
    "\n",
    "# Shape of dataset with no outliers\n",
    "\n",
    "(rows3, cols3) = df_no_out.shape\n",
    "\n",
    "print(f\"The dataset with no outliers has {rows3} records and {cols3} columns\")"
   ]
  },
  {
   "cell_type": "markdown",
   "id": "e13987f7-0023-4bb8-aab1-622fdbb054a8",
   "metadata": {
    "tags": []
   },
   "source": [
    "## 3.3. Feature Engineering"
   ]
  },
  {
   "cell_type": "code",
   "execution_count": 13,
   "id": "c20b0589-0acf-48c1-85ec-bf041e9b85b1",
   "metadata": {},
   "outputs": [
    {
     "data": {
      "text/html": [
       "<div><div id=c446770c-7bcb-4410-9698-e425aeb6ca90 style=\"display:none; background-color:#9D6CFF; color:white; width:200px; height:30px; padding-left:5px; border-radius:4px; flex-direction:row; justify-content:space-around; align-items:center;\" onmouseover=\"this.style.backgroundColor='#BA9BF8'\" onmouseout=\"this.style.backgroundColor='#9D6CFF'\" onclick=\"window.commands?.execute('create-mitosheet-from-dataframe-output');\">See Full Dataframe in Mito</div> <script> if (window.commands?.hasCommand('create-mitosheet-from-dataframe-output')) document.getElementById('c446770c-7bcb-4410-9698-e425aeb6ca90').style.display = 'flex' </script> <table border=\"1\" class=\"dataframe\">\n",
       "  <thead>\n",
       "    <tr style=\"text-align: right;\">\n",
       "      <th></th>\n",
       "      <th>amount_deposited</th>\n",
       "      <th>amount_received</th>\n",
       "      <th>amount_transfers_from_bank</th>\n",
       "      <th>mpesa_credits</th>\n",
       "      <th>number_days_airtime&lt;2</th>\n",
       "      <th>okoa_jahazi_loan_amount</th>\n",
       "      <th>Loan_age</th>\n",
       "      <th>risk</th>\n",
       "    </tr>\n",
       "  </thead>\n",
       "  <tbody>\n",
       "    <tr>\n",
       "      <th>0</th>\n",
       "      <td>27590</td>\n",
       "      <td>53226.0</td>\n",
       "      <td>0.0</td>\n",
       "      <td>80816.0</td>\n",
       "      <td>139</td>\n",
       "      <td>800.0</td>\n",
       "      <td>5</td>\n",
       "      <td>0</td>\n",
       "    </tr>\n",
       "  </tbody>\n",
       "</table></div>"
      ],
      "text/plain": [
       "   amount_deposited  amount_received  amount_transfers_from_bank  \\\n",
       "0             27590          53226.0                         0.0   \n",
       "\n",
       "   mpesa_credits  number_days_airtime<2  okoa_jahazi_loan_amount  Loan_age  \\\n",
       "0        80816.0                    139                    800.0         5   \n",
       "\n",
       "   risk  \n",
       "0     0  "
      ]
     },
     "execution_count": 13,
     "metadata": {},
     "output_type": "execute_result"
    }
   ],
   "source": [
    "# Transforming outcome variable from a numerical variable into a binary categorical variable with:\n",
    "# 0 : loan age < 90 meaning loan not defaulted\n",
    "# 1 : loan age >= 90 meaning loan is defaulted\n",
    "\n",
    "df_prep['risk'] = np.where(df_prep['Loan_age'] > 90, 1, 0)\n",
    "\n",
    "df_prep['risk'].astype(\"category\")\n",
    "\n",
    "df_prep.head(1)"
   ]
  },
  {
   "cell_type": "markdown",
   "id": "a53c7781-5c61-4837-8509-ec14a5fdfb5d",
   "metadata": {},
   "source": [
    "We've created a column named risk with values 0 or 1, o for notdefaulting and 1 for defaulting."
   ]
  },
  {
   "cell_type": "code",
   "execution_count": 14,
   "id": "1daee90e-6300-4f9b-ba52-267856c880c4",
   "metadata": {},
   "outputs": [
    {
     "data": {
      "image/png": "[encoded data removed]",
      "text/plain": [
       "<Figure size 432x288 with 1 Axes>"
      ]
     },
     "metadata": {
      "needs_background": "light"
     },
     "output_type": "display_data"
    }
   ],
   "source": [
    "#bar plot for the risk column\n",
    "df_prep['risk'].value_counts().plot.bar(title='Frequency Distribution of Risk')\n",
    "\n",
    "plt.show()"
   ]
  },
  {
   "cell_type": "code",
   "execution_count": 15,
   "id": "7abdf023-837b-48cd-a39c-0836240fb1a1",
   "metadata": {},
   "outputs": [
    {
     "data": {
      "text/html": [
       "<div><div id=ac6ea401-80b9-41e0-9a93-239ca05512cb style=\"display:none; background-color:#9D6CFF; color:white; width:200px; height:30px; padding-left:5px; border-radius:4px; flex-direction:row; justify-content:space-around; align-items:center;\" onmouseover=\"this.style.backgroundColor='#BA9BF8'\" onmouseout=\"this.style.backgroundColor='#9D6CFF'\" onclick=\"window.commands?.execute('create-mitosheet-from-dataframe-output');\">See Full Dataframe in Mito</div> <script> if (window.commands?.hasCommand('create-mitosheet-from-dataframe-output')) document.getElementById('ac6ea401-80b9-41e0-9a93-239ca05512cb').style.display = 'flex' </script> <table border=\"1\" class=\"dataframe\">\n",
       "  <thead>\n",
       "    <tr style=\"text-align: right;\">\n",
       "      <th></th>\n",
       "      <th>amount_deposited</th>\n",
       "      <th>amount_received</th>\n",
       "      <th>amount_transfers_from_bank</th>\n",
       "      <th>mpesa_credits</th>\n",
       "      <th>number_days_airtime&lt;2</th>\n",
       "      <th>okoa_jahazi_loan_amount</th>\n",
       "      <th>Loan_age</th>\n",
       "      <th>risk</th>\n",
       "    </tr>\n",
       "  </thead>\n",
       "  <tbody>\n",
       "    <tr>\n",
       "      <th>0</th>\n",
       "      <td>27590</td>\n",
       "      <td>53226.0</td>\n",
       "      <td>0.0</td>\n",
       "      <td>80816.0</td>\n",
       "      <td>139</td>\n",
       "      <td>800.0</td>\n",
       "      <td>5</td>\n",
       "      <td>0</td>\n",
       "    </tr>\n",
       "  </tbody>\n",
       "</table></div>"
      ],
      "text/plain": [
       "   amount_deposited  amount_received  amount_transfers_from_bank  \\\n",
       "0             27590          53226.0                         0.0   \n",
       "\n",
       "   mpesa_credits  number_days_airtime<2  okoa_jahazi_loan_amount  Loan_age  \\\n",
       "0        80816.0                    139                    800.0         5   \n",
       "\n",
       "   risk  \n",
       "0     0  "
      ]
     },
     "execution_count": 15,
     "metadata": {},
     "output_type": "execute_result"
    }
   ],
   "source": [
    "# Creating a final dataset to be used in our modeling\n",
    "\n",
    "df_final = df_prep.copy()\n",
    "\n",
    "df_final.head(1)"
   ]
  },
  {
   "cell_type": "code",
   "execution_count": 16,
   "id": "2433400a-0358-4ad5-933c-ceeed6c14f7d",
   "metadata": {},
   "outputs": [
    {
     "name": "stdout",
     "output_type": "stream",
     "text": [
      "(8981, 7)\n"
     ]
    },
    {
     "data": {
      "text/html": [
       "<div><div id=31ee72aa-eeaf-45c3-b5cb-22091909c1b4 style=\"display:none; background-color:#9D6CFF; color:white; width:200px; height:30px; padding-left:5px; border-radius:4px; flex-direction:row; justify-content:space-around; align-items:center;\" onmouseover=\"this.style.backgroundColor='#BA9BF8'\" onmouseout=\"this.style.backgroundColor='#9D6CFF'\" onclick=\"window.commands?.execute('create-mitosheet-from-dataframe-output');\">See Full Dataframe in Mito</div> <script> if (window.commands?.hasCommand('create-mitosheet-from-dataframe-output')) document.getElementById('31ee72aa-eeaf-45c3-b5cb-22091909c1b4').style.display = 'flex' </script> <table border=\"1\" class=\"dataframe\">\n",
       "  <thead>\n",
       "    <tr style=\"text-align: right;\">\n",
       "      <th></th>\n",
       "      <th>amount_deposited</th>\n",
       "      <th>amount_received</th>\n",
       "      <th>amount_transfers_from_bank</th>\n",
       "      <th>mpesa_credits</th>\n",
       "      <th>number_days_airtime&lt;2</th>\n",
       "      <th>okoa_jahazi_loan_amount</th>\n",
       "      <th>risk</th>\n",
       "    </tr>\n",
       "  </thead>\n",
       "  <tbody>\n",
       "    <tr>\n",
       "      <th>0</th>\n",
       "      <td>27590</td>\n",
       "      <td>53226.0</td>\n",
       "      <td>0.0</td>\n",
       "      <td>80816.0</td>\n",
       "      <td>139</td>\n",
       "      <td>800.0</td>\n",
       "      <td>0</td>\n",
       "    </tr>\n",
       "  </tbody>\n",
       "</table></div>"
      ],
      "text/plain": [
       "   amount_deposited  amount_received  amount_transfers_from_bank  \\\n",
       "0             27590          53226.0                         0.0   \n",
       "\n",
       "   mpesa_credits  number_days_airtime<2  okoa_jahazi_loan_amount  risk  \n",
       "0        80816.0                    139                    800.0     0  "
      ]
     },
     "execution_count": 16,
     "metadata": {},
     "output_type": "execute_result"
    }
   ],
   "source": [
    "# Dropping the column \"Loan_age\"\n",
    "\n",
    "df_final.drop('Loan_age', axis = 1, inplace = True)\n",
    "\n",
    "print(df_final.shape)\n",
    "\n",
    "df_final.head(1)"
   ]
  },
  {
   "cell_type": "markdown",
   "id": "660bdd6f-8cef-4722-a258-e66180468615",
   "metadata": {},
   "source": [
    "## 3.4. Checking for normality "
   ]
  },
  {
   "cell_type": "code",
   "execution_count": 17,
   "id": "38370938-3162-40fc-abdf-e3bd641fbc1a",
   "metadata": {},
   "outputs": [
    {
     "name": "stdout",
     "output_type": "stream",
     "text": [
      "      amount_deposited  amount_received  amount_transfers_from_bank  \\\n",
      "7427              8700              0.0                         0.0   \n",
      "7835             78900          99600.0                         0.0   \n",
      "5629              2230          82073.0                         0.0   \n",
      "8179              2000              0.0                      8500.0   \n",
      "1846              1650          26318.0                         0.0   \n",
      "1300             62050          23322.0                         0.0   \n",
      "4545                 0          14948.0                         0.0   \n",
      "5866            347500         298202.0                         0.0   \n",
      "4403             92420           2100.0                         0.0   \n",
      "1501             51800          28652.0                         0.0   \n",
      "\n",
      "      mpesa_credits  number_days_airtime<2  okoa_jahazi_loan_amount  risk  \n",
      "7427         8700.0                    155                      0.0     0  \n",
      "7835       178500.0                     43                    160.0     0  \n",
      "5629        84303.0                     93                      0.0     0  \n",
      "8179        10500.0                     13                      0.0     0  \n",
      "1846        27968.0                      0                      0.0     0  \n",
      "1300        85372.0                    106                      0.0     0  \n",
      "4545        14948.0                    107                      0.0     1  \n",
      "5866       645702.0                    108                      0.0     0  \n",
      "4403        94520.0                     20                    180.0     0  \n",
      "1501        80452.0                    117                      0.0     0  \n"
     ]
    }
   ],
   "source": [
    "#since the p value may not be accurate when doing the shapiro wilk test for normality\n",
    "#\"p-value may not be accurate for N > 5000.\"\n",
    "#do simple sampling\n",
    "df_sample = df_final.sample(n = 10,replace = \"False\")\n",
    "print(df_sample)"
   ]
  },
  {
   "cell_type": "code",
   "execution_count": 18,
   "id": "a977dd2f-5d3d-466c-bbfd-c16f0920181d",
   "metadata": {},
   "outputs": [
    {
     "name": "stdout",
     "output_type": "stream",
     "text": [
      "statistics = 0.409,p = 0.000\n",
      "sample does not look gausian\n"
     ]
    }
   ],
   "source": [
    "# Check whether our dataset is normally distributed\n",
    "\n",
    "import math\n",
    "from scipy.stats import shapiro \n",
    "stat,p = shapiro(df_sample)\n",
    "print('statistics = %.3f,p = %.3f'%(stat,p))\n",
    "alpha = o=0.05\n",
    "if p > alpha:\n",
    "  print('sample looks gausian')\n",
    "else:\n",
    "  print('sample does not look gausian')\n"
   ]
  },
  {
   "cell_type": "markdown",
   "id": "f558eb8b-ec1b-44fe-a37d-5ba63ac11837",
   "metadata": {
    "tags": []
   },
   "source": [
    "## 3.5. EDA\n",
    "\n",
    "While exploring the data, we look at the distributions of the numerical variables."
   ]
  },
  {
   "cell_type": "markdown",
   "id": "525e044b-cd97-4726-9fb7-c99d0a33697e",
   "metadata": {
    "tags": []
   },
   "source": [
    "### 3.5.1. Univariate Analysis\n",
    "\n",
    "A look at the characteristics and distrbution of each variable"
   ]
  },
  {
   "cell_type": "code",
   "execution_count": 19,
   "id": "26bc69fa-1b6c-4288-81d5-e17b8acd4a51",
   "metadata": {},
   "outputs": [
    {
     "data": {
      "image/png": "[encoded data removed]",
      "text/plain": [
       "<Figure size 432x288 with 1 Axes>"
      ]
     },
     "metadata": {
      "needs_background": "light"
     },
     "output_type": "display_data"
    },
    {
     "data": {
      "image/png": "[encoded data removed]",
      "text/plain": [
       "<Figure size 432x288 with 1 Axes>"
      ]
     },
     "metadata": {
      "needs_background": "light"
     },
     "output_type": "display_data"
    },
    {
     "data": {
      "image/png": "[encoded data removed]",
      "text/plain": [
       "<Figure size 432x288 with 1 Axes>"
      ]
     },
     "metadata": {
      "needs_background": "light"
     },
     "output_type": "display_data"
    },
    {
     "data": {
      "image/png": "[encoded data removed]",
      "text/plain": [
       "<Figure size 432x288 with 1 Axes>"
      ]
     },
     "metadata": {
      "needs_background": "light"
     },
     "output_type": "display_data"
    },
    {
     "data": {
      "image/png": "[encoded data removed]",
      "text/plain": [
       "<Figure size 432x288 with 1 Axes>"
      ]
     },
     "metadata": {
      "needs_background": "light"
     },
     "output_type": "display_data"
    },
    {
     "data": {
      "image/png": "[encoded data removed]",
      "text/plain": [
       "<Figure size 432x288 with 1 Axes>"
      ]
     },
     "metadata": {
      "needs_background": "light"
     },
     "output_type": "display_data"
    },
    {
     "data": {
      "image/png": "[encoded data removed]",
      "text/plain": [
       "<Figure size 432x288 with 1 Axes>"
      ]
     },
     "metadata": {
      "needs_background": "light"
     },
     "output_type": "display_data"
    }
   ],
   "source": [
    "# obtaining a list of all the columns in the dataset\n",
    "\n",
    "cols_ua = list(df_final.columns)\n",
    "\n",
    "# initializing the count\n",
    "\n",
    "i = 0\n",
    "\n",
    "# drawing histograms for each variable\n",
    "\n",
    "for col in cols_ua:\n",
    "    df_final[col].hist(bins = 40)\n",
    "    plt.title(col)\n",
    "    plt.show()\n",
    "    i+= 1"
   ]
  },
  {
   "cell_type": "markdown",
   "id": "99ff5957-c520-4d1b-b2f8-c14a16ed2865",
   "metadata": {},
   "source": [
    "The Variables below all have their values mainly around zero and they are skewed to the right.\n",
    "- amount_deposited\n",
    "- amount_received\t\n",
    "- amount_transfers_from_bank\n",
    "- mpesa_credits\t\n",
    "- okoa_jahazi_loan_amount\n",
    "  \n",
    "The variable 'number_days_airtime<2' shws the characteristics of a mixture ditribution."
   ]
  },
  {
   "cell_type": "markdown",
   "id": "af7a2427-a77f-4fcb-a83f-8cead48c59fc",
   "metadata": {},
   "source": [
    "The distribution of loan age is skewed to the right.\n",
    "The majority of the customers have loans that are less than 90 days."
   ]
  },
  {
   "cell_type": "markdown",
   "id": "90572a6b-050c-4bc2-bff3-7a9937e1a84d",
   "metadata": {
    "tags": []
   },
   "source": [
    "### 3.5.2. Bivariate Analysis "
   ]
  },
  {
   "cell_type": "code",
   "execution_count": null,
   "id": "9650d864-f9a4-4802-83a3-b339231fbbbe",
   "metadata": {},
   "outputs": [],
   "source": [
    "#Create a pair plot\n",
    "sns.pairplot(data=df_final, diag_kind= 'kde')\n",
    "\n",
    "plt.show()"
   ]
  },
  {
   "cell_type": "markdown",
   "id": "76b9d913-04b7-4313-b7fc-80637726115a",
   "metadata": {
    "tags": []
   },
   "source": [
    "### 3.5.3. Multivariate Analysis"
   ]
  },
  {
   "cell_type": "code",
   "execution_count": null,
   "id": "7539ad9c-176e-43ab-ad67-9b0940c172a9",
   "metadata": {},
   "outputs": [],
   "source": [
    "# Correlation Matrix\n",
    "\n",
    "corr = df_final.corr()\n",
    "sns.heatmap(corr, annot=True, cmap='coolwarm')\n",
    "\n",
    "plt.show()"
   ]
  },
  {
   "cell_type": "markdown",
   "id": "4a0bc2f6-21d4-43d7-bc90-143d1a49b564",
   "metadata": {
    "tags": []
   },
   "source": [
    "# 4. Modeling\n",
    "\n",
    "Our project consists of predicting whether an individual will default on a loan or not.  \n",
    "Our target variable \"risk\" takes on the values 0 and 1. \n",
    "Hence we use a classification algorithm."
   ]
  },
  {
   "cell_type": "markdown",
   "id": "51d168cf-cc22-4b34-ac4b-09f09f1fa074",
   "metadata": {
    "tags": []
   },
   "source": [
    "## 4.1. Model Selection\n",
    "\n",
    "We will use Tensorflow as our classification algorithm.\n",
    "More models will be used in order to challenge our results."
   ]
  },
  {
   "cell_type": "code",
   "execution_count": null,
   "id": "23ce172a-36b5-4a47-81c4-9a40f9316fc6",
   "metadata": {},
   "outputs": [],
   "source": [
    "# We import all the libraries required for our modeling\n",
    "\n",
    "# For train test split modeling\n",
    "from sklearn.model_selection import train_test_split\n",
    "\n",
    "# Import a standardization library\n",
    "from sklearn.preprocessing import StandardScaler\n",
    "\n",
    "# Import an Multi-Layer Perceptron Classifier model estimator from Scikit-Learn's neural_network library\n",
    "from sklearn.neural_network import MLPClassifier\n",
    "\n",
    "#Tensorflow Libraries\n",
    "import tensorflow as tf\n",
    "from tensorflow.keras.models import Sequential\n",
    "from tensorflow.keras.layers import Dense,Dropout\n",
    "from tensorflow.keras.callbacks import EarlyStopping\n",
    "from tensorflow.keras.models import load_model\n",
    "\n",
    "# Model evaluation libraries\n",
    "from sklearn.metrics import confusion_matrix, classification_report"
   ]
  },
  {
   "cell_type": "markdown",
   "id": "4b59fa89-cef5-4d99-9b45-9b32d63c08f3",
   "metadata": {
    "tags": []
   },
   "source": [
    "## 4.2. Train - Test - Split Design\n",
    "\n",
    "We use the train-test split algorithm on our dataset to perform our modeling.\n",
    "First we separate our target variable from the rest of the dataset."
   ]
  },
  {
   "cell_type": "code",
   "execution_count": null,
   "id": "b0e7d397-6091-46d9-985e-fcdcd59786f3",
   "metadata": {},
   "outputs": [],
   "source": [
    "# First we separate our target variable from the rest of the dataset.\n",
    "\n",
    "X = df_final.drop('risk', axis = 1)\n",
    "\n",
    "y = df_final.risk"
   ]
  },
  {
   "cell_type": "code",
   "execution_count": null,
   "id": "85e63722-8ce9-4f73-bc3e-161a3dfb7310",
   "metadata": {},
   "outputs": [],
   "source": [
    "X.shape"
   ]
  },
  {
   "cell_type": "code",
   "execution_count": null,
   "id": "c852b1e2-6759-4b1d-a69d-79f2ff1ab863",
   "metadata": {},
   "outputs": [],
   "source": [
    "# We split the data into train and test datasets\n",
    "\n",
    "X_train, X_test, y_train, y_test = train_test_split(X, y, test_size = 0.2, random_state = 0 , stratify = y)"
   ]
  },
  {
   "cell_type": "code",
   "execution_count": null,
   "id": "d9168297-58fa-4333-ae3a-e277f2c2cfe9",
   "metadata": {},
   "outputs": [],
   "source": [
    "y_train.value_counts()"
   ]
  },
  {
   "cell_type": "code",
   "execution_count": null,
   "id": "bc4c7380-d7d4-458e-a7f7-163bd0a07b08",
   "metadata": {},
   "outputs": [],
   "source": [
    "y_test.value_counts()"
   ]
  },
  {
   "cell_type": "code",
   "execution_count": null,
   "id": "fdf84347-2413-4a20-860e-92e9257fa9d3",
   "metadata": {},
   "outputs": [],
   "source": [
    "# Normalizing our training Data\n",
    "\n",
    "# Initialize the scaler\n",
    "scaler = StandardScaler()\n",
    "\n",
    "# Fitting the scaler\n",
    "scaler.fit(X_train)\n",
    "\n",
    "# Applying the transformation to the data\n",
    "X_train = scaler.transform(X_train)\n",
    "\n",
    "X_test = scaler.transform(X_test)\n"
   ]
  },
  {
   "cell_type": "markdown",
   "id": "1bc2a0ac-a7a5-48b6-8c73-6e42e19b8f53",
   "metadata": {
    "tags": []
   },
   "source": [
    "## 4.3. Model Training\n",
    "\n",
    "The choice of our model is \"sequential\"."
   ]
  },
  {
   "cell_type": "code",
   "execution_count": null,
   "id": "693ea095-6ac3-4d8a-95fe-a0b7b583552a",
   "metadata": {},
   "outputs": [],
   "source": [
    "# Number of features\n",
    "\n",
    "print(f\"The number of features is {X.shape[1]}, hence we choose the first layer of the neural network with {X.shape[1]} nodes\")"
   ]
  },
  {
   "cell_type": "code",
   "execution_count": null,
   "id": "efa0a719-5455-4225-9e4a-47f15d9c5f1e",
   "metadata": {
    "tags": []
   },
   "outputs": [],
   "source": [
    "# Modeling usinf train dataset and fitting to test dataset\n",
    "\n",
    "tf.random.set_seed(0)\n",
    "\n",
    "model = Sequential()\n",
    "\n",
    "model.add(\n",
    "        Dense(6, activation='relu')\n",
    ")\n",
    "\n",
    "model.add(\n",
    "        Dense(5, activation='relu')\n",
    ")\n",
    "\n",
    "model.add(\n",
    "        Dense(3, activation='relu')\n",
    ")\n",
    "\n",
    "\n",
    "model.add(\n",
    "        Dense(1, activation='sigmoid')\n",
    ")\n",
    "\n",
    "model.compile(\n",
    "        optimizer='adam', \n",
    "        loss='binary_crossentropy', \n",
    "        metrics=['accuracy']\n",
    ")\n",
    "\n",
    "early_stop = EarlyStopping(\n",
    "        monitor='val_loss', \n",
    "        mode='min', \n",
    "        verbose=1, \n",
    "        patience=25\n",
    ")\n",
    "\n",
    "model.fit(\n",
    "        X_train, \n",
    "        y_train, \n",
    "        epochs=200, \n",
    "        batch_size=500, \n",
    "        validation_data=(X_test, y_test),\n",
    "         callbacks=[early_stop]\n",
    ")"
   ]
  },
  {
   "cell_type": "markdown",
   "id": "0adbb8e3-ee1f-42d2-ac4d-0d39f49586e2",
   "metadata": {
    "tags": []
   },
   "source": [
    "## 4.4. Model Evaluation and Validation"
   ]
  },
  {
   "cell_type": "code",
   "execution_count": null,
   "id": "dea2a739-cfd5-484b-83ca-f111ea7a23f0",
   "metadata": {},
   "outputs": [],
   "source": [
    "pd.DataFrame(model.history.history)[['loss','val_loss']].plot()\n",
    "\n",
    "plt.title(\"Loss Plot\")\n",
    "\n",
    "plt.show()"
   ]
  },
  {
   "cell_type": "markdown",
   "id": "ae598e68-3905-4d87-b29f-a52866b90182",
   "metadata": {},
   "source": [
    "This validation result, the Loss plot, shows us the model is well fitted."
   ]
  },
  {
   "cell_type": "code",
   "execution_count": null,
   "id": "f842e1f0-5adf-4844-b992-3e9f3ae2476d",
   "metadata": {},
   "outputs": [],
   "source": [
    "accuracy = model.evaluate(X, y)\n",
    "\n",
    "#print(accuracy)\n",
    "print(\"%s: %.2f%%\" % (model.metrics_names[1], accuracy[1]*100))"
   ]
  },
  {
   "cell_type": "markdown",
   "id": "2412caae-abc9-473b-b522-b1e788f11607",
   "metadata": {
    "tags": []
   },
   "source": [
    "## 4.5. Challenging the Solution\n",
    "\n",
    "we are going to use MPLClassifier class.Multilayer perceptron is used when its output is binary which is our case here."
   ]
  },
  {
   "cell_type": "code",
   "execution_count": null,
   "id": "15921840-aa29-4ab9-a714-080e78546ba6",
   "metadata": {},
   "outputs": [],
   "source": [
    "# Creating our model\n",
    "\n",
    "# the number of neurons comprising that hidden layer is equal to the number of features (columns) in your data.\n",
    "mlp = MLPClassifier(hidden_layer_sizes=(6,6,6), activation='logistic', random_state=10, max_iter=500)\n",
    " \n",
    "\n",
    "# fitting the data\n",
    "mlp.fit(X_train,y_train)\n",
    "\n",
    "# Predicting\n",
    "y_pred = mlp.predict(X_test)\n",
    "\n",
    "# Evaluation\n",
    "print(confusion_matrix(y_test,y_pred))\n",
    "\n",
    "print('-----------------------------------------')\n",
    "\n",
    "print(classification_report(y_test,y_pred))"
   ]
  },
  {
   "cell_type": "markdown",
   "id": "1e730515-67d1-42ea-9c35-37d8be258d3a",
   "metadata": {},
   "source": [
    "### Validating some ML algorithm by its accuracy - Model Score"
   ]
  },
  {
   "cell_type": "code",
   "execution_count": null,
   "id": "623aa8bc-e84b-4b72-b243-3d966075e930",
   "metadata": {},
   "outputs": [],
   "source": [
    "from sklearn.discriminant_analysis import LinearDiscriminantAnalysis\n",
    "from sklearn.linear_model import LogisticRegression\n",
    "from sklearn.tree import DecisionTreeClassifier\n",
    "from sklearn.neighbors import KNeighborsClassifier\n",
    "from sklearn.naive_bayes import GaussianNB\n",
    "from sklearn.svm import SVC\n",
    "\n",
    "from sklearn.model_selection import cross_val_score\n",
    "from sklearn.model_selection import StratifiedKFold"
   ]
  },
  {
   "cell_type": "code",
   "execution_count": null,
   "id": "aee09be1-3dce-42bd-964b-b0d526e4d156",
   "metadata": {},
   "outputs": [],
   "source": [
    "models = []\n",
    "models.append(('LR', LogisticRegression(solver='liblinear', multi_class='ovr')))\n",
    "models.append(('LDA', LinearDiscriminantAnalysis()))\n",
    "models.append(('KNN', KNeighborsClassifier()))\n",
    "models.append(('CART', DecisionTreeClassifier()))\n",
    "models.append(('NB', GaussianNB()))\n",
    "models.append(('SVM', SVC(gamma='auto')))"
   ]
  },
  {
   "cell_type": "code",
   "execution_count": null,
   "id": "715d1f83-4f77-4461-bb3e-6bb4e4d919a3",
   "metadata": {},
   "outputs": [],
   "source": [
    "from matplotlib import pyplot\n",
    "results = []\n",
    "names = []\n",
    "res = []\n",
    "for name, model in models:\n",
    "    kfold = StratifiedKFold(n_splits=10, random_state=None)\n",
    "    cv_results = cross_val_score(model, X_train, y_train, cv=kfold, scoring='accuracy')\n",
    "    results.append(cv_results)\n",
    "    names.append(name)\n",
    "    res.append(cv_results.mean())\n",
    "    print('%s: %f' % (name, cv_results.mean()))"
   ]
  },
  {
   "cell_type": "markdown",
   "id": "94972e09-c4a8-4342-bf52-ba6281f17eaf",
   "metadata": {},
   "source": [
    "This comparison shows that Logistic regression, LDA, SVM perform with the same Accuracy.  \n",
    "The results also show that our model performs better than the rest with accuracy of 88.35%"
   ]
  },
  {
   "cell_type": "markdown",
   "id": "ef9d0184-fc1b-4621-8ad4-592d94c33a4b",
   "metadata": {},
   "source": [
    "# 5. Conclusion and Recommendation\n",
    "\n",
    "Out of the various models evaluated, accuracy results show us that the sequential model by Tensorflow keras has better accuracy (88.35) than alternatives.  \n",
    "\n",
    "Top features in determining whether an individual would default a loan or not were identified to be amount deposited, amount received and amount transfers from bank."
   ]
  },
  {
   "cell_type": "code",
   "execution_count": null,
   "id": "e40a2dfc-8e20-4daf-9e12-4f4b1d4b15f5",
   "metadata": {},
   "outputs": [],
   "source": []
  }
 ],
 "metadata": {
  "kernelspec": {
   "display_name": "Python 3 (ipykernel)",
   "language": "python",
   "name": "python3"
  },
  "language_info": {
   "codemirror_mode": {
    "name": "ipython",
    "version": 3
   },
   "file_extension": ".py",
   "mimetype": "text/x-python",
   "name": "python",
   "nbconvert_exporter": "python",
   "pygments_lexer": "ipython3",
   "version": "3.10.2"
  },
  "toc-autonumbering": false,
  "toc-showmarkdowntxt": false
 },
 "nbformat": 4,
 "nbformat_minor": 5
}
